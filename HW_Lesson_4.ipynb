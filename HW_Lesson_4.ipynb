{
 "cells": [
  {
   "cell_type": "markdown",
   "source": [
    "##### Part 1"
   ],
   "metadata": {
    "collapsed": false,
    "pycharm": {
     "name": "#%% md\n"
    }
   }
  },
  {
   "cell_type": "code",
   "execution_count": 1,
   "outputs": [],
   "source": [
    "import numpy as np\n",
    "from numpy import linalg as la"
   ],
   "metadata": {
    "collapsed": false,
    "pycharm": {
     "name": "#%%\n"
    }
   }
  },
  {
   "cell_type": "markdown",
   "source": [
    "__1.__ Решить систему уравнений методом Гаусса:\n",
    "\n",
    "$$\\begin{cases}\n",
    "x_{1}+x_{2}-x_{3}-2x_{4}=0, \\\\\n",
    "2x_{1}+x_{2}-x_{3}+x_{4}=-2, \\\\\n",
    "x_{1}+x_{2}-3x_{3}+x_{4}=4.\n",
    "\\end{cases}$$\n"
   ],
   "metadata": {
    "collapsed": false
   }
  },
  {
   "cell_type": "markdown",
   "source": [
    "\n",
    "$$\\begin{pmatrix}\n",
    "\\left.\\begin{matrix}\n",
    "1 & 1 & -1 & -2 \\\\\n",
    "2 & 1 & -1 & 1 \\\\\n",
    "1 & 1 & -3 & 1\n",
    "\\end{matrix}\\right|\n",
    "\\begin{matrix}\n",
    "0\\\\\n",
    "-2\\\\\n",
    "4\n",
    "\\end{matrix}\n",
    "\\end{pmatrix}$$"
   ],
   "metadata": {
    "collapsed": false,
    "pycharm": {
     "name": "#%% md\n"
    }
   }
  },
  {
   "cell_type": "markdown",
   "source": [
    "$$\\begin{pmatrix}\n",
    "\\left.\\begin{matrix}\n",
    "1 & 1 & -1 & -2 \\\\\n",
    "0 & -1 & -1 & -5 \\\\\n",
    "0 & 0 & -2 & 3\n",
    "\\end{matrix}\\right|\n",
    "\\begin{matrix}\n",
    "0\\\\\n",
    "-2\\\\\n",
    "4\n",
    "\\end{matrix}\n",
    "\\end{pmatrix}$$"
   ],
   "metadata": {
    "collapsed": false,
    "pycharm": {
     "name": "#%% md\n"
    }
   }
  },
  {
   "cell_type": "markdown",
   "source": [
    "$$\\begin{cases}\n",
    "x_{1}+x_{2}-x_{3}-2x_{4}=0, \\\\\n",
    "-x_{2}-x_{3}-5x_{4}=-2, \\\\\n",
    "-2x_{3}+3x_{4}=4.\n",
    "\\end{cases}$$"
   ],
   "metadata": {
    "collapsed": false,
    "pycharm": {
     "name": "#%% md\n"
    }
   }
  },
  {
   "cell_type": "markdown",
   "source": [
    "$$x_{4} = c$$\n",
    "$$-2x_{3}+3c = 4\n",
    "\\Rightarrow\n",
    "x_{3}=-2+\\frac{3c}{2}$$\n",
    "\n",
    "$$-x_{2} - (-2+\\frac{3c}{2})-5c = -2\n",
    "\\Rightarrow\n",
    "x_{2} = 4-\\frac{13c}{2}\n",
    "$$\n",
    "\n",
    "$$x_{1} + 4-\\frac{13c}{2} - (-2+\\frac{3c}{2}) - 2c = 0\n",
    "\\Rightarrow\n",
    "x_{1} = 10c-6$$"
   ],
   "metadata": {
    "collapsed": false,
    "pycharm": {
     "name": "#%% md\n"
    }
   }
  },
  {
   "cell_type": "markdown",
   "source": [
    "\n",
    "__2.__ Проверить на совместность и выяснить, сколько решений будет иметь система линейных уравнений:\n",
    "\n",
    "   а) $\\begin{cases}\n",
    "3x_{1}-x_{2}+x_{3}=4, \\\\\n",
    "2x_{1}-5x_{2}-3x_{3}=-17, \\\\\n",
    "x_{1}+x_{2}-x_{3}=0;\n",
    "\\end{cases}$\n",
    "\n",
    "   б) $\\begin{cases}\n",
    "2x_{1}-4x_{2}+6x_{3}=1, \\\\\n",
    "x_{1}-2x_{2}+3x_{3}=-2, \\\\\n",
    "3x_{1}-6x_{2}+9x_{3}=5;\n",
    "\\end{cases}$\n",
    "\n",
    "   в) $\\begin{cases}\n",
    "x_{1}+2x_{2}+5x_{3}=4, \\\\\n",
    "3x_{1}+x_{2}-8x_{3}=-2.\n",
    "\\end{cases}$\n",
    "\n"
   ],
   "metadata": {
    "collapsed": false,
    "pycharm": {
     "name": "#%% md\n"
    }
   }
  },
  {
   "cell_type": "code",
   "execution_count": 2,
   "outputs": [],
   "source": [
    "def solver(x, y):\n",
    "    a_ext = np.append(x, y.T, axis=1)\n",
    "    r_a = la.matrix_rank(x)\n",
    "    r_a_ext = la.matrix_rank(a_ext)\n",
    "    if r_a == r_a_ext and r_a == np.shape(x)[1]:\n",
    "        print(f'Система определена, единственное решение')\n",
    "    elif r_a == r_a_ext and r_a < np.shape(x)[1]:\n",
    "        print(f'Система имеет бесконечное количество решений')\n",
    "    else:\n",
    "        print('Система несовместна, решений нет')"
   ],
   "metadata": {
    "collapsed": false,
    "pycharm": {
     "name": "#%%\n"
    }
   }
  },
  {
   "cell_type": "code",
   "execution_count": 3,
   "outputs": [],
   "source": [
    "a = np.array([[3,-1,1],[2,-5,-3], [1,1,-1]])\n",
    "b = np.array([[4,-17, 0]])"
   ],
   "metadata": {
    "collapsed": false,
    "pycharm": {
     "name": "#%%\n"
    }
   }
  },
  {
   "cell_type": "code",
   "execution_count": 4,
   "outputs": [
    {
     "name": "stdout",
     "output_type": "stream",
     "text": [
      "Система определена, единственное решение\n"
     ]
    }
   ],
   "source": [
    "solver(a,b)"
   ],
   "metadata": {
    "collapsed": false,
    "pycharm": {
     "name": "#%%\n"
    }
   }
  },
  {
   "cell_type": "code",
   "execution_count": 5,
   "outputs": [],
   "source": [
    "a = np.array([[2,-4,6],[1,-2,3], [3,-6,9]])\n",
    "b = np.array([[1,-2, 5]])"
   ],
   "metadata": {
    "collapsed": false,
    "pycharm": {
     "name": "#%%\n"
    }
   }
  },
  {
   "cell_type": "code",
   "execution_count": 6,
   "outputs": [
    {
     "name": "stdout",
     "output_type": "stream",
     "text": [
      "Система несовместна, решений нет\n"
     ]
    }
   ],
   "source": [
    "solver(a,b)"
   ],
   "metadata": {
    "collapsed": false,
    "pycharm": {
     "name": "#%%\n"
    }
   }
  },
  {
   "cell_type": "code",
   "execution_count": 7,
   "outputs": [],
   "source": [
    "a = np.array([[1,2,5],[3,1,-8]])\n",
    "b = np.array([[4,-2]])"
   ],
   "metadata": {
    "collapsed": false,
    "pycharm": {
     "name": "#%%\n"
    }
   }
  },
  {
   "cell_type": "code",
   "execution_count": 8,
   "outputs": [
    {
     "name": "stdout",
     "output_type": "stream",
     "text": [
      "Система имеет бесконечное количество решений\n"
     ]
    }
   ],
   "source": [
    "solver(a,b)"
   ],
   "metadata": {
    "collapsed": false,
    "pycharm": {
     "name": "#%%\n"
    }
   }
  },
  {
   "cell_type": "markdown",
   "source": [
    "\n",
    "__3.__ Проверить на совместность и выяснить, сколько решений будет иметь система линейных уравнений, заданная расширенной матрицей\n",
    "\n",
    "$$\\tilde{A}=\\begin{pmatrix}\n",
    "\\left.\\begin{matrix}\n",
    "1 & 3 & -2 & 4\\\\\n",
    "0 & 5 & 0 & 1\\\\\n",
    "0 & 0 & 3 & 0\\\\\n",
    "0 & 0 & 0 & 2\n",
    "\\end{matrix}\\right|\n",
    "\\begin{matrix}\n",
    "3\\\\\n",
    "2\\\\\n",
    "4\\\\\n",
    "1\n",
    "\\end{matrix}\n",
    "\\end{pmatrix}.$$\n"
   ],
   "metadata": {
    "collapsed": false,
    "pycharm": {
     "name": "#%% md\n"
    }
   }
  },
  {
   "cell_type": "code",
   "execution_count": 9,
   "outputs": [],
   "source": [
    "a = np.array([[1,3,-2, 4],[0,5,0,1], [0,0,3,0], [0,0,0,2]])\n",
    "b = np.array([[3, 2, 4, 1]])"
   ],
   "metadata": {
    "collapsed": false,
    "pycharm": {
     "name": "#%%\n"
    }
   }
  },
  {
   "cell_type": "code",
   "execution_count": 10,
   "outputs": [
    {
     "name": "stdout",
     "output_type": "stream",
     "text": [
      "Система определена, единственное решение\n"
     ]
    }
   ],
   "source": [
    "solver(a,b)"
   ],
   "metadata": {
    "collapsed": false,
    "pycharm": {
     "name": "#%%\n"
    }
   }
  },
  {
   "cell_type": "markdown",
   "source": [
    "\n",
    "__4.__ Дана система линейных уравнений, заданная расширенной матрицей\n",
    "\n",
    "$$\\tilde{A}=\\begin{pmatrix}\n",
    "\\left.\\begin{matrix}\n",
    "1 & 2 & 3\\\\\n",
    "4 & 5 & 6\\\\\n",
    "7 & 8 & 9\n",
    "\\end{matrix}\\right|\n",
    "\\begin{matrix}\n",
    "a\\\\\n",
    "b\\\\\n",
    "c\n",
    "\\end{matrix}\n",
    "\\end{pmatrix}.$$\n",
    "\n",
    "Найти соотношение между параметрами $a$, $b$ и $c$, при которых система является несовместной."
   ],
   "metadata": {
    "collapsed": false,
    "pycharm": {
     "name": "#%% md\n"
    }
   }
  },
  {
   "cell_type": "markdown",
   "source": [
    "По теореме Кроникера-Капелли система уравнений несовместна, если ранг матрицы коэффициентов меньше ранга расширенной матрицы.\n",
    "Определим ранг матрицы коэффициентов.\n",
    "\n",
    "$$\\begin{pmatrix}\n",
    "\\left.\\begin{matrix}\n",
    "1 & 2 & 3\\\\\n",
    "0 & -3 & -6\\\\\n",
    "0 & -6 & -12\n",
    "\\end{matrix}\\right|\n",
    "\\begin{matrix}\n",
    "a\\\\\n",
    "b-4a\\\\\n",
    "c-7a\n",
    "\\end{matrix}\n",
    "\\end{pmatrix}$$\n",
    "\n",
    "$$\\begin{pmatrix}\n",
    "\\left.\\begin{matrix}\n",
    "1 & 2 & 3\\\\\n",
    "0 & -3 & -6\\\\\n",
    "0 & 0 & 0\n",
    "\\end{matrix}\\right|\n",
    "\\begin{matrix}\n",
    "a\\\\\n",
    "b-4a\\\\\n",
    "c-7a-2(b-4a)\n",
    "\\end{matrix}\n",
    "\\end{pmatrix}.$$"
   ],
   "metadata": {
    "collapsed": false,
    "pycharm": {
     "name": "#%% md\n"
    }
   }
  },
  {
   "cell_type": "markdown",
   "source": [
    "Ранг матрицы коэффициентов равен 2, соотвтетсвенно ранг расширенной матрицы должен быть больше двух и это возможно только в случае, когда выражение $(c-7a-2(b-4a)) \\neq 0$."
   ],
   "metadata": {
    "collapsed": false,
    "pycharm": {
     "name": "#%% md\n"
    }
   }
  },
  {
   "cell_type": "markdown",
   "source": [
    " Найдем соотношение, при котором ранги матриц будут одинаковы приравняв получившееся выражение к 0.\n",
    " $$c-7a-2(b-4a) = 0\n",
    " \\Rightarrow\n",
    " a-2b+c=0\n",
    " \\Rightarrow\n",
    " c=2b-a$$\n",
    " Соответственно для всех соотношений $a$, $b$ и $c$, кроме $c=2b-a$ система уравнений несовместна."
   ],
   "metadata": {
    "collapsed": false,
    "pycharm": {
     "name": "#%% md\n"
    }
   }
  },
  {
   "cell_type": "markdown",
   "source": [
    "##### Part 2"
   ],
   "metadata": {
    "collapsed": false,
    "pycharm": {
     "name": "#%% md\n"
    }
   }
  },
  {
   "cell_type": "markdown",
   "source": [
    "__1.__ Решить систему уравнений методом Крамера:\n",
    "\n",
    "   а) $\\begin{cases}\n",
    "x_{1}-2x_{2}=1 \\\\\n",
    "3x_{1}-4x_{2}=7\n",
    "\\end{cases}$\n",
    "\n"
   ],
   "metadata": {
    "collapsed": false,
    "pycharm": {
     "name": "#%% md\n"
    }
   }
  },
  {
   "cell_type": "code",
   "execution_count": 11,
   "outputs": [
    {
     "data": {
      "text/plain": "(array([[ 1, -2],\n        [ 3, -4]]),\n array([[1, 7]]))"
     },
     "execution_count": 11,
     "metadata": {},
     "output_type": "execute_result"
    }
   ],
   "source": [
    "a = np.array([[1, -2], [3, -4]])\n",
    "b = np.array([[1,7]])\n",
    "a, b"
   ],
   "metadata": {
    "collapsed": false,
    "pycharm": {
     "name": "#%%\n"
    }
   }
  },
  {
   "cell_type": "code",
   "execution_count": 12,
   "outputs": [
    {
     "data": {
      "text/plain": "2.0000000000000004"
     },
     "execution_count": 12,
     "metadata": {},
     "output_type": "execute_result"
    }
   ],
   "source": [
    "det_a = la.det(a)\n",
    "det_a"
   ],
   "metadata": {
    "collapsed": false,
    "pycharm": {
     "name": "#%%\n"
    }
   }
  },
  {
   "cell_type": "code",
   "execution_count": 13,
   "outputs": [],
   "source": [
    "a_1 = np.array([[1, -2], [7, -4]])\n",
    "a_2 = np.array([[1, 1], [3, 7]])\n",
    "det_a_1 = la.det(a_1)\n",
    "det_a_2 = la.det(a_2)"
   ],
   "metadata": {
    "collapsed": false,
    "pycharm": {
     "name": "#%%\n"
    }
   }
  },
  {
   "cell_type": "code",
   "execution_count": 14,
   "outputs": [
    {
     "data": {
      "text/plain": "(4.999999999999998, 1.9999999999999991)"
     },
     "execution_count": 14,
     "metadata": {},
     "output_type": "execute_result"
    }
   ],
   "source": [
    "x_1 = det_a_1/det_a\n",
    "x_2 = det_a_2/det_a\n",
    "x_1, x_2"
   ],
   "metadata": {
    "collapsed": false,
    "pycharm": {
     "name": "#%%\n"
    }
   }
  },
  {
   "cell_type": "markdown",
   "source": [
    "$$x_{1} = 5$$\n",
    "$$x_{2} = 2$$"
   ],
   "metadata": {
    "collapsed": false,
    "pycharm": {
     "name": "#%% md\n"
    }
   }
  },
  {
   "cell_type": "markdown",
   "source": [
    "   б) $\\begin{cases}\n",
    "2x_{1}-x_{2}+5x_{3}=10 \\\\\n",
    "x_{1}+x_{2}-3x_{3}=-2 \\\\\n",
    "2x_{1}+4x_{2}+x_{3}=1\n",
    "\\end{cases}$\n"
   ],
   "metadata": {
    "collapsed": false,
    "pycharm": {
     "name": "#%% md\n"
    }
   }
  },
  {
   "cell_type": "code",
   "execution_count": 15,
   "outputs": [
    {
     "data": {
      "text/plain": "(array([[ 2, -1,  5],\n        [ 1,  1, -3],\n        [ 2,  4,  1]]),\n array([[10, -2,  1]]))"
     },
     "execution_count": 15,
     "metadata": {},
     "output_type": "execute_result"
    }
   ],
   "source": [
    "a = np.array([[2, -1, 5], [1, 1, -3], [2, 4, 1]])\n",
    "b = np.array([[10, -2, 1]])\n",
    "a, b"
   ],
   "metadata": {
    "collapsed": false,
    "pycharm": {
     "name": "#%%\n"
    }
   }
  },
  {
   "cell_type": "code",
   "execution_count": 16,
   "outputs": [
    {
     "data": {
      "text/plain": "42.99999999999998"
     },
     "execution_count": 16,
     "metadata": {},
     "output_type": "execute_result"
    }
   ],
   "source": [
    "det_a = la.det(a)\n",
    "det_a"
   ],
   "metadata": {
    "collapsed": false,
    "pycharm": {
     "name": "#%%\n"
    }
   }
  },
  {
   "cell_type": "code",
   "execution_count": 17,
   "outputs": [],
   "source": [
    "a_1 = np.array([[10, -1, 5], [-2, 1, -3], [1, 4, 1]])\n",
    "a_2 = np.array([[2, 10, 5], [1, -2, -3], [2, 1, 1]])\n",
    "a_3 = np.array([[2, -1, 10], [1, 1, -2], [2, 4, 1]])\n",
    "det_a_1 = la.det(a_1)\n",
    "det_a_2 = la.det(a_2)\n",
    "det_a_3 = la.det(a_3)"
   ],
   "metadata": {
    "collapsed": false,
    "pycharm": {
     "name": "#%%\n"
    }
   }
  },
  {
   "cell_type": "code",
   "execution_count": 18,
   "outputs": [
    {
     "data": {
      "text/plain": "(2.0000000000000018, -1.0000000000000009, 1.0)"
     },
     "execution_count": 18,
     "metadata": {},
     "output_type": "execute_result"
    }
   ],
   "source": [
    "x_1 = det_a_1/det_a\n",
    "x_2 = det_a_2/det_a\n",
    "x_3 = det_a_3/det_a\n",
    "x_1, x_2, x_3"
   ],
   "metadata": {
    "collapsed": false,
    "pycharm": {
     "name": "#%%\n"
    }
   }
  },
  {
   "cell_type": "markdown",
   "source": [
    "$$x_{1} = 2$$\n",
    "$$x_{2} = -1$$\n",
    "$$x_{3} = 1$$"
   ],
   "metadata": {
    "collapsed": false,
    "pycharm": {
     "name": "#%% md\n"
    }
   }
  },
  {
   "cell_type": "markdown",
   "source": [
    "\n",
    "__2*.__ Найти $L$-матрицу $LU$-разложения для матрицы коэффициентов:\n",
    "\n",
    "   а)$$\\begin{pmatrix}\n",
    "1 & 2 & 4 \\\\\n",
    "2 & 9 & 12 \\\\\n",
    "3 & 26 & 30\n",
    "\\end{pmatrix}$$\n",
    "\n"
   ],
   "metadata": {
    "collapsed": false,
    "pycharm": {
     "name": "#%% md\n"
    }
   }
  },
  {
   "cell_type": "code",
   "execution_count": 104,
   "outputs": [],
   "source": [
    "def lu_decompose(a):\n",
    "    n = len(a)\n",
    "    L = np.eye(len(a))\n",
    "    U = np.zeros(np.shape(a))\n",
    "\n",
    "    for i in range(n):\n",
    "\n",
    "        # U\n",
    "        for k in range(i, n):\n",
    "            sum = 0\n",
    "            for j in range(i):\n",
    "                sum += (L[i][j] * U[j][k])\n",
    "            U[i][k] = a[i][k] - sum\n",
    "\n",
    "        # L\n",
    "        for k in range(i, n):\n",
    "            if i == k:\n",
    "                continue\n",
    "            else:\n",
    "                sum = 0\n",
    "                for j in range(i):\n",
    "                    sum += (L[k][j] * U[j][i])\n",
    "\n",
    "                L[k][i] = int((a[k][i] - sum) /\n",
    "                              U[i][i])\n",
    "    return L, U"
   ],
   "metadata": {
    "collapsed": false,
    "pycharm": {
     "name": "#%%\n"
    }
   }
  },
  {
   "cell_type": "code",
   "execution_count": 106,
   "outputs": [
    {
     "data": {
      "text/plain": "array([[1., 0., 0.],\n       [2., 1., 0.],\n       [3., 4., 1.]])"
     },
     "execution_count": 106,
     "metadata": {},
     "output_type": "execute_result"
    }
   ],
   "source": [
    "a = np.array([[1,2,4],[2,9,12],[3,26,30]])\n",
    "L, U = lu_decompose(a)\n",
    "L"
   ],
   "metadata": {
    "collapsed": false,
    "pycharm": {
     "name": "#%%\n"
    }
   }
  },
  {
   "cell_type": "markdown",
   "source": [
    "   б)$$\\begin{pmatrix}\n",
    "1 & 1 & 2 & 4\\\\\n",
    "2 & 5 & 8 & 9\\\\\n",
    "3 & 18 & 29 & 18\\\\\n",
    "4 & 22 & 53 & 33\n",
    "\\end{pmatrix}$$"
   ],
   "metadata": {
    "collapsed": false,
    "pycharm": {
     "name": "#%% md\n"
    }
   }
  },
  {
   "cell_type": "code",
   "execution_count": 107,
   "outputs": [
    {
     "data": {
      "text/plain": "array([[1., 0., 0., 0.],\n       [2., 1., 0., 0.],\n       [3., 5., 1., 0.],\n       [4., 6., 7., 1.]])"
     },
     "execution_count": 107,
     "metadata": {},
     "output_type": "execute_result"
    }
   ],
   "source": [
    "a = np.array([[1,1,2,4],[2,5,8,9],[3,18,29, 18], [4,22,53,33]])\n",
    "L, U = lu_decompose(a)\n",
    "L"
   ],
   "metadata": {
    "collapsed": false,
    "pycharm": {
     "name": "#%%\n"
    }
   }
  },
  {
   "cell_type": "markdown",
   "source": [
    "\n",
    "__3*.__ Решить систему линейных уравнений методом $LU$-разложения\n",
    "\n",
    "$$\\begin{cases}\n",
    "2x_{1}+x_{2}+3x_{3}=1 \\\\\n",
    "11x_{1}+7x_{2}+5x_{3}=-6 \\\\\n",
    "9x_{1}+8x_{2}+4x_{3}=-5\n",
    "\\end{cases}$$\n"
   ],
   "metadata": {
    "collapsed": false,
    "pycharm": {
     "name": "#%% md\n"
    }
   }
  },
  {
   "cell_type": "markdown",
   "source": [],
   "metadata": {
    "collapsed": false
   }
  },
  {
   "cell_type": "code",
   "execution_count": 108,
   "outputs": [
    {
     "name": "stdout",
     "output_type": "stream",
     "text": [
      "L = \n",
      "[[1. 0. 0.]\n",
      " [5. 1. 0.]\n",
      " [4. 2. 1.]]\n",
      "U = \n",
      "[[  2.   1.   3.]\n",
      " [  0.   2. -10.]\n",
      " [  0.   0.  12.]]\n"
     ]
    }
   ],
   "source": [
    "a = np.array([[2,1,3], [11,7,5], [9,8,4]])\n",
    "L, U = lu_decompose(a)\n",
    "print(f'L = \\n{L}')\n",
    "print(f'U = \\n{U}')"
   ],
   "metadata": {
    "collapsed": false,
    "pycharm": {
     "name": "#%%\n"
    }
   }
  },
  {
   "cell_type": "markdown",
   "source": [
    "$$Ly = b;$$\n",
    "$$\\begin{cases}\n",
    "y_{1} = 1\\\\\n",
    "5y_{1} + y_{2} = -6\\\\\n",
    "4y_{1} + 2y_{2} + y_{3} = -5\n",
    "\\end{cases}$$\n",
    "$$ y_{1} = 1, y_{2} = -11, y_{3} = 13$$"
   ],
   "metadata": {
    "collapsed": false,
    "pycharm": {
     "name": "#%% md\n"
    }
   }
  },
  {
   "cell_type": "markdown",
   "source": [
    "$$Ux = y;$$\n",
    "$$\\begin{cases}\n",
    "2x_{1} + x_{2} + 3x_{3} = 1\\\\\n",
    "2x_{2} - 10x_{3} = -11\\\\\n",
    "12x_{3} = 13\n",
    "\\end{cases}$$\n",
    "\n",
    "$$x_{1} = -1\\frac{1}{12} , x_{2} = -\\frac{1}{12}, x_{3} = 1\\frac{1}{12}$$\n"
   ],
   "metadata": {
    "collapsed": false,
    "pycharm": {
     "name": "#%% md\n"
    }
   }
  },
  {
   "cell_type": "markdown",
   "source": [
    "\n",
    "__4*.__ Решить систему линейных уравнений методом Холецкого\n",
    "\n",
    "$$\\begin{cases}\n",
    "81x_{1}-45x_{2}+45x_{3}=531 \\\\\n",
    "-45x_{1}+50x_{2}-15x_{3}=-460 \\\\\n",
    "45x_{1}-15x_{2}+38x_{3}=193\n",
    "\\end{cases}$$\n"
   ],
   "metadata": {
    "collapsed": false,
    "pycharm": {
     "name": "#%% md\n"
    }
   }
  },
  {
   "cell_type": "markdown",
   "source": [],
   "metadata": {
    "collapsed": false,
    "pycharm": {
     "name": "#%% md\n"
    }
   }
  },
  {
   "cell_type": "markdown",
   "source": [
    "$$l_{11} =\\sqrt{a_{11}} = \\sqrt{81} = 9$$\n",
    "$$l_{21} =\\frac{a_{21}}{l_{11}} = \\frac{-45}{9} = -5$$\n",
    "$$l_{31} =\\frac{a_{31}}{l_{11}} = \\frac{45}{9} = 5$$\n",
    "\n",
    "$$l_{22} = \\sqrt{a_{22}-l_{21}^{2}} = \\sqrt{50 - (-5)^2} = 5$$\n",
    "$$l_{32} = \\frac{1}{l_{22}}\\left ( a_{32}-l_{21}l_{31} \\right) = \\frac{1}{5}(-15 - (-5) \\cdot 5) = 2$$\n",
    "\n",
    "$$l_{33} = \\sqrt{a_{33}-l_{32}^{2}-l_{31}^{2}} = \\sqrt{38 - 2^2 - 5^2} = 3$$"
   ],
   "metadata": {
    "collapsed": false,
    "pycharm": {
     "name": "#%% md\n"
    }
   }
  },
  {
   "cell_type": "code",
   "execution_count": 113,
   "outputs": [
    {
     "data": {
      "text/plain": "array([[ 9,  0,  0],\n       [-5,  5,  0],\n       [ 5,  2,  3]])"
     },
     "execution_count": 113,
     "metadata": {},
     "output_type": "execute_result"
    }
   ],
   "source": [
    "L = np.array([[9, 0, 0], [-5, 5, 0], [5, 2, 3]])\n",
    "L"
   ],
   "metadata": {
    "collapsed": false,
    "pycharm": {
     "name": "#%%\n"
    }
   }
  },
  {
   "cell_type": "code",
   "execution_count": 114,
   "outputs": [
    {
     "data": {
      "text/plain": "array([[ 9, -5,  5],\n       [ 0,  5,  2],\n       [ 0,  0,  3]])"
     },
     "execution_count": 114,
     "metadata": {},
     "output_type": "execute_result"
    }
   ],
   "source": [
    "L.T"
   ],
   "metadata": {
    "collapsed": false,
    "pycharm": {
     "name": "#%%\n"
    }
   }
  },
  {
   "cell_type": "markdown",
   "source": [
    "$$Ly=b;$$\n",
    "$$\\begin{cases}\n",
    "9y_{1} = 531\\\\\n",
    "-5y_{1}+5y_{2}= -460\\\\\n",
    "5y_{1} + 2y_{2} + 3y_{3} = 193\n",
    "\\end{cases}$$\n",
    "$$ y_{1} = 59; y_{2} = -33; y_{3} = -12$$"
   ],
   "metadata": {
    "collapsed": false,
    "pycharm": {
     "name": "#%% md\n"
    }
   }
  },
  {
   "cell_type": "markdown",
   "source": [
    "$$L^{T}x=y;$$\n",
    "$$\\begin{cases}\n",
    "9x_{1} - 5x_{2} + 5x_{3} = 59\\\\\n",
    "5x_{2}+2x_{3}= -33\\\\\n",
    "3x_{3} = -12\n",
    "\\end{cases}$$\n",
    "$$ x_{1} = 6; x_{2} = -5; x_{3} = -4$$"
   ],
   "metadata": {
    "collapsed": false,
    "pycharm": {
     "name": "#%% md\n"
    }
   }
  },
  {
   "cell_type": "markdown",
   "source": [
    "\n",
    "__5*.__ Написать на Python программу с реализацией одного из изученных алгоритмов решения СЛАУ.\n",
    "###### Выполнено в пункте 2"
   ],
   "metadata": {
    "collapsed": false,
    "pycharm": {
     "name": "#%% md\n"
    }
   }
  }
 ],
 "metadata": {
  "kernelspec": {
   "display_name": "Python 3",
   "language": "python",
   "name": "python3"
  },
  "language_info": {
   "codemirror_mode": {
    "name": "ipython",
    "version": 2
   },
   "file_extension": ".py",
   "mimetype": "text/x-python",
   "name": "python",
   "nbconvert_exporter": "python",
   "pygments_lexer": "ipython2",
   "version": "2.7.6"
  }
 },
 "nbformat": 4,
 "nbformat_minor": 0
}
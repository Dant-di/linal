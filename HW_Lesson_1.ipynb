{
 "cells": [
  {
   "cell_type": "markdown",
   "source": [
    "1. Найти скалярное произведение векторов  x,y∈R :\n",
    "а)  x=(0,−3,6), y=(−4,7,9);\n",
    "б)  x=(7,−4,0,1), y=(−3,1,11,2).\n",
    "\n",
    "2. Найти нормы векторов  (4,2,4)  и  (12,3,4)  и угол между ними.\n",
    "\n",
    "3. Будет ли линейное пространство евклидовым, если за скалярное произведение принять:\n",
    "а) произведение длин векторов;\n",
    "б) утроенное обычное скалярное произведение векторов?\n",
    "\n",
    "4. Какие из нижеперечисленных векторов образуют ортонормированный базис в линейном пространстве  R3 :\n",
    "а)  (1,0,0),(0,0,1);\n",
    "б)  (1/2–√,−1/2–√,0),(1/2–√,1/2–√,0),(0,0,1);\n",
    "в)  (1/2,−1/2,0),(0,1/2,1/2),(0,0,1);\n",
    "г)  (1,0,0),(0,1,0),(0,0,1)?"
   ],
   "metadata": {
    "collapsed": false,
    "pycharm": {
     "name": "#%% md\n"
    }
   }
  },
  {
   "cell_type": "markdown",
   "source": [],
   "metadata": {
    "collapsed": false,
    "pycharm": {
     "name": "#%% md\n"
    }
   }
  },
  {
   "cell_type": "markdown",
   "source": [
    "Какие из нижеперечисленных векторов образуют ортонормированный базис в линейном пространстве $\\mathbb{R}^{3}$\n",
    "\n",
    "а) $(1,0,0),(0,0,1)$\n",
    "б) $\\left(\\frac{1}{\\sqrt{2}},-\\frac{1}{\\sqrt{2}},0\\right),\\left(\\frac{1}{\\sqrt{2}},\\frac{1}{\\sqrt{2}},0\\right), (0,0,1);$\n",
    "в) $\\left(\\frac{1}{2}, -\\frac{1}{2}, 0\\right), \\left(0, \\frac{1}{2}, \\frac{1}{2}\\right), (0,0,1);$\n",
    "г) $(1,0,0),(0,1,0),(0,0,1)?$\n",
    "\n",
    "Если скалярное произведение векторов равно нулю и равно единице при совпадающем индексе, то вектора образуют ортонормированный базис\n",
    "\n",
    "а) $1 \\cdot 0 + 0 \\cdot 0 + 0 \\cdot 1 = 0$\n",
    "$|x_1| = 1$\n",
    "$|x_2| = 1$\n",
    "Вектора $(1,0,0), (0,0,1)$ - образуют ортонормированный базис\n",
    "\n",
    "б) $\\frac{1}{\\sqrt{2}} \\cdot \\frac{1}{\\sqrt{2}} + \\left(-\\frac{1}{\\sqrt{2}}\\right) \\cdot \\frac{1}{\\sqrt{2}} + 0 \\cdot 0 = 0$\n",
    "\n",
    "$|x_1| = \\sqrt{\\frac{1}{\\sqrt{2}}^2 + \\left(-\\frac{1}{\\sqrt{2}}\\right)^2 + 0^2} = 1$\n",
    "$|x_2| = \\sqrt{\\frac{1}{\\sqrt{2}}^2 + \\frac{1}{\\sqrt{2}}^2 + 0^2} = 1$\n",
    "$|x_3| = 1$\n",
    "\n",
    "Вектора $\\left(\\frac{1}{\\sqrt{2}},-\\frac{1}{\\sqrt{2}},0\\right),\\left(\\frac{1}{\\sqrt{2}},\\frac{1}{\\sqrt{2}},0\\right), (0,0,1)$- необразуют ортонормированный базис\n",
    "\n",
    "в) $\\frac{1}{2} \\cdot \\frac{1}{2} + \\left(-\\frac{1}{2} \\cdot -\\frac{1}{2}\\right) + 0 \\cdot 0 = 0.5$\n",
    "Вектора $\\left(\\frac{1}{2}, -\\frac{1}{2}, 0\\right), \\left(0, \\frac{1}{2}, \\frac{1}{2}\\right), (0,0,1)$ -необразуют ортонормированный базис\n",
    "\n",
    "г) Вектора $(1,0,0),(0,1,0),(0,0,1)$ - образуют ортонормированный базис"
   ],
   "metadata": {
    "collapsed": false,
    "pycharm": {
     "name": "#%% md\n"
    }
   }
  },
  {
   "cell_type": "code",
   "execution_count": 28,
   "outputs": [],
   "source": [],
   "metadata": {
    "collapsed": false,
    "pycharm": {
     "name": "#%%\n"
    }
   }
  },
  {
   "cell_type": "code",
   "execution_count": 30,
   "outputs": [
    {
     "name": "stdout",
     "output_type": "stream",
     "text": [
      "6.0\n"
     ]
    }
   ],
   "source": [
    "x1 = [4,2,4]\n",
    "\n",
    "xs = 0\n",
    "for i in x1:\n",
    "    xs += i**2\n",
    "print(xs**0.5)"
   ],
   "metadata": {
    "collapsed": false,
    "pycharm": {
     "name": "#%%\n"
    }
   }
  },
  {
   "cell_type": "code",
   "execution_count": 41,
   "outputs": [
    {
     "name": "stdout",
     "output_type": "stream",
     "text": [
      "9.0\n"
     ]
    }
   ],
   "source": [
    "x2 = [6,3,6]\n",
    "xs = 0\n",
    "for i in x2:\n",
    "    xs += i**2\n",
    "print(xs**0.5)"
   ],
   "metadata": {
    "collapsed": false,
    "pycharm": {
     "name": "#%%\n"
    }
   }
  },
  {
   "cell_type": "code",
   "execution_count": 42,
   "outputs": [
    {
     "name": "stdout",
     "output_type": "stream",
     "text": [
      "15.0\n"
     ]
    }
   ],
   "source": [
    "x2 = [10,5,10]\n",
    "xs = 0\n",
    "for i in x2:\n",
    "    xs += i**2\n",
    "print(xs**0.5)"
   ],
   "metadata": {
    "collapsed": false,
    "pycharm": {
     "name": "#%%\n"
    }
   }
  },
  {
   "cell_type": "code",
   "execution_count": 43,
   "outputs": [],
   "source": [
    "import numpy as np"
   ],
   "metadata": {
    "collapsed": false,
    "pycharm": {
     "name": "#%%\n"
    }
   }
  },
  {
   "cell_type": "code",
   "execution_count": 44,
   "outputs": [],
   "source": [
    "def scalar_multiply(x, y):\n",
    "    if len(x) != len(y):\n",
    "        return \"Вектора имеют разную размерность\"\n",
    "    result = 0\n",
    "    for i in range(len(x)):\n",
    "        result += (x[i]* y[i])\n",
    "    return result"
   ],
   "metadata": {
    "collapsed": false,
    "pycharm": {
     "name": "#%%\n"
    }
   }
  },
  {
   "cell_type": "code",
   "execution_count": 45,
   "outputs": [],
   "source": [
    "from math import sqrt, acos, cos, degrees"
   ],
   "metadata": {
    "collapsed": false,
    "pycharm": {
     "name": "#%%\n"
    }
   }
  },
  {
   "cell_type": "code",
   "execution_count": 46,
   "outputs": [],
   "source": [
    "def norm_of_vector(vector, ord=2):\n",
    "    norma = 0\n",
    "    if ord == 1:\n",
    "        for i in vector:\n",
    "            norma += abs(i)\n",
    "    elif ord == 2:\n",
    "        norma = sqrt(sum(i**2 for i in vector))\n",
    "    else:\n",
    "        return('Error')\n",
    "    return(norma)"
   ],
   "metadata": {
    "collapsed": false,
    "pycharm": {
     "name": "#%%\n"
    }
   }
  },
  {
   "cell_type": "code",
   "execution_count": 47,
   "outputs": [],
   "source": [
    "def multiply_length_of_vectors(x, y):\n",
    "    return norm_of_vector(x) * norm_of_vector(y)"
   ],
   "metadata": {
    "collapsed": false,
    "pycharm": {
     "name": "#%%\n"
    }
   }
  },
  {
   "cell_type": "code",
   "execution_count": 52,
   "outputs": [],
   "source": [
    "x = np.array([10,5,10])\n",
    "y = np.array([12,3,4])\n",
    "x1 = np.array([4,2,4])\n",
    "x2 = np.array([6,3,6])"
   ],
   "metadata": {
    "collapsed": false,
    "pycharm": {
     "name": "#%%\n"
    }
   }
  },
  {
   "cell_type": "code",
   "execution_count": 51,
   "outputs": [
    {
     "data": {
      "text/plain": "(True, True, True, True)"
     },
     "execution_count": 51,
     "metadata": {},
     "output_type": "execute_result"
    }
   ],
   "source": [
    "(np.dot(y,x) == np.dot(x, y),\n",
    " np.dot(2*x,y) == 2*np.dot(x,y),\n",
    " np.dot(x+y,y) == np.dot(x,y) + np.dot(y,y),\n",
    " np.dot(x,x) >= 0)"
   ],
   "metadata": {
    "collapsed": false,
    "pycharm": {
     "name": "#%%\n"
    }
   }
  },
  {
   "cell_type": "code",
   "execution_count": 53,
   "outputs": [
    {
     "data": {
      "text/plain": "(True, True, True, True)"
     },
     "execution_count": 53,
     "metadata": {},
     "output_type": "execute_result"
    }
   ],
   "source": [
    "(np.dot(y,x) == np.dot(x, y),\n",
    " np.dot(2*x,y) == 2*np.dot(x,y),\n",
    " np.dot(x1+x2,y) == np.dot(x1,y) + np.dot(x2,y),\n",
    " np.dot(x,x) >= 0)"
   ],
   "metadata": {
    "collapsed": false,
    "pycharm": {
     "name": "#%%\n"
    }
   }
  },
  {
   "cell_type": "code",
   "execution_count": 54,
   "outputs": [
    {
     "data": {
      "text/plain": "(True, True, False, True)"
     },
     "execution_count": 54,
     "metadata": {},
     "output_type": "execute_result"
    }
   ],
   "source": [
    "# Проверка:\n",
    "(multiply_length_of_vectors(y,x) == multiply_length_of_vectors(x, y),\n",
    " multiply_length_of_vectors(2*x,y) == 2*multiply_length_of_vectors(x,y),\n",
    " multiply_length_of_vectors(x+y,y) == multiply_length_of_vectors(x,y) + multiply_length_of_vectors(y,y),\n",
    " multiply_length_of_vectors(x,x) >= 0)"
   ],
   "metadata": {
    "collapsed": false,
    "pycharm": {
     "name": "#%%\n"
    }
   }
  },
  {
   "cell_type": "code",
   "execution_count": 55,
   "outputs": [
    {
     "data": {
      "text/plain": "(True, True, True, True)"
     },
     "execution_count": 55,
     "metadata": {},
     "output_type": "execute_result"
    }
   ],
   "source": [
    "# Проверка:\n",
    "(multiply_length_of_vectors(y,x) == multiply_length_of_vectors(x, y),\n",
    " multiply_length_of_vectors(2*x,y) == 2*multiply_length_of_vectors(x,y),\n",
    " multiply_length_of_vectors(x1+x2,y) == multiply_length_of_vectors(x1,y) + multiply_length_of_vectors(x2,y),\n",
    " multiply_length_of_vectors(x,x) >= 0)"
   ],
   "metadata": {
    "collapsed": false,
    "pycharm": {
     "name": "#%%\n"
    }
   }
  },
  {
   "cell_type": "code",
   "execution_count": 56,
   "outputs": [],
   "source": [
    "def triple_scalar_multiply(x, y):\n",
    "    return 3*scalar_multiply(x, y)"
   ],
   "metadata": {
    "collapsed": false,
    "pycharm": {
     "name": "#%%\n"
    }
   }
  },
  {
   "cell_type": "code",
   "execution_count": 57,
   "outputs": [
    {
     "data": {
      "text/plain": "(True, True, True, True)"
     },
     "execution_count": 57,
     "metadata": {},
     "output_type": "execute_result"
    }
   ],
   "source": [
    "# Проверка:\n",
    "(triple_scalar_multiply(y,x) == triple_scalar_multiply(x, y),\n",
    " triple_scalar_multiply(2*x,y) == 2*triple_scalar_multiply(x,y),\n",
    " triple_scalar_multiply(x+y,y) == triple_scalar_multiply(x,y) + triple_scalar_multiply(y,y),\n",
    " triple_scalar_multiply(x,x) >= 0)"
   ],
   "metadata": {
    "collapsed": false,
    "pycharm": {
     "name": "#%%\n"
    }
   }
  },
  {
   "cell_type": "code",
   "execution_count": 58,
   "outputs": [
    {
     "data": {
      "text/plain": "(True, True, True, True)"
     },
     "execution_count": 58,
     "metadata": {},
     "output_type": "execute_result"
    }
   ],
   "source": [
    "# Проверка:\n",
    "(triple_scalar_multiply(y,x) == triple_scalar_multiply(x, y),\n",
    " triple_scalar_multiply(2*x,y) == 2*triple_scalar_multiply(x,y),\n",
    " triple_scalar_multiply(x1+x2,y) == triple_scalar_multiply(x1,y) + triple_scalar_multiply(x2,y),\n",
    " triple_scalar_multiply(x,x) >= 0)"
   ],
   "metadata": {
    "collapsed": false,
    "pycharm": {
     "name": "#%%\n"
    }
   }
  },
  {
   "cell_type": "code",
   "execution_count": 59,
   "outputs": [
    {
     "data": {
      "text/plain": "175"
     },
     "execution_count": 59,
     "metadata": {},
     "output_type": "execute_result"
    }
   ],
   "source": [
    "np.dot(y,x)"
   ],
   "metadata": {
    "collapsed": false,
    "pycharm": {
     "name": "#%%\n"
    }
   }
  },
  {
   "cell_type": "code",
   "execution_count": 60,
   "outputs": [
    {
     "data": {
      "text/plain": "525"
     },
     "execution_count": 60,
     "metadata": {},
     "output_type": "execute_result"
    }
   ],
   "source": [
    "triple_scalar_multiply(y,x)"
   ],
   "metadata": {
    "collapsed": false,
    "pycharm": {
     "name": "#%%\n"
    }
   }
  },
  {
   "cell_type": "code",
   "execution_count": null,
   "outputs": [],
   "source": [],
   "metadata": {
    "collapsed": false,
    "pycharm": {
     "name": "#%%\n"
    }
   }
  }
 ],
 "metadata": {
  "kernelspec": {
   "display_name": "Python 3",
   "language": "python",
   "name": "python3"
  },
  "language_info": {
   "codemirror_mode": {
    "name": "ipython",
    "version": 2
   },
   "file_extension": ".py",
   "mimetype": "text/x-python",
   "name": "python",
   "nbconvert_exporter": "python",
   "pygments_lexer": "ipython2",
   "version": "2.7.6"
  }
 },
 "nbformat": 4,
 "nbformat_minor": 0
}
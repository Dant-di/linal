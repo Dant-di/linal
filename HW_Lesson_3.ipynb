{
 "cells": [
  {
   "cell_type": "code",
   "execution_count": 3,
   "metadata": {
    "collapsed": true
   },
   "outputs": [],
   "source": [
    "import numpy as np\n",
    "from numpy import linalg as la"
   ]
  },
  {
   "cell_type": "markdown",
   "source": [
    "__1.__ Найти собственные векторы и собственные значения для линейного оператора, заданного матрицей\n",
    "\n",
    "$$A=\\begin{pmatrix}\n",
    "-1 & -6\\\\\n",
    "2 & 6\n",
    "\\end{pmatrix}.$$"
   ],
   "metadata": {
    "collapsed": false,
    "pycharm": {
     "name": "#%% md\n"
    }
   }
  },
  {
   "cell_type": "markdown",
   "source": [
    "$$\\begin{vmatrix}\n",
    "1-\\lambda & 6\\\\\n",
    "2 & 6-\\lambda\n",
    "\\end{vmatrix} = 0,$$\n",
    "\n",
    "$$(-1-\\lambda)\\cdot(6-\\lambda)-(-6\\cdot2)=0,$$\n",
    "\n",
    "$$-6-6\\lambda +\\lambda +\\lambda^{2}+12=0   $$\n",
    "\n",
    "$$\\lambda^{2} - 5x+6=0$$\n",
    "\n",
    "$$\\begin{cases}\n",
    "\\lambda_{1} = 2 \\\\\n",
    "\\lambda_{2}=3\n",
    "\\end{cases}$$"
   ],
   "metadata": {
    "collapsed": false,
    "pycharm": {
     "name": "#%% md\n"
    }
   }
  },
  {
   "cell_type": "markdown",
   "source": [
    "$$\\begin{pmatrix}\n",
    "-1 & -6\\\\\n",
    "2 & 6\n",
    "\\end{pmatrix}\n",
    "\\begin{pmatrix}\n",
    "x_{1}\\\\\n",
    "x_{2}\n",
    "\\end{pmatrix}=\n",
    "\\lambda\n",
    "\\begin{pmatrix}\n",
    "x_{1}\\\\\n",
    "x_{2}\n",
    "\\end{pmatrix}.\n",
    "$$\n",
    "\n",
    "$$\\begin{cases}\n",
    "-x_{1}-6x_{2}=2x_{1}\\\\\n",
    "2x_{1}+6x_{2}=2x_{2}\n",
    "\\end{cases}$$\n",
    "\n",
    "$$\\begin{cases}\n",
    "x_{1}=-2x_{2}\\\\\n",
    "x_{2}=x_{2}\n",
    "\\end{cases}$$\n",
    "\n",
    "\n",
    "$$x=\\begin{pmatrix}\n",
    "2\\\\\n",
    "-1\n",
    "\\end{pmatrix}\n",
    "$$"
   ],
   "metadata": {
    "collapsed": false,
    "pycharm": {
     "name": "#%% md\n"
    }
   }
  },
  {
   "cell_type": "markdown",
   "source": [
    "$$\\begin{cases}\n",
    "-x_{1}-6x_{2}=3x_{1}\\\\\n",
    "2x_{1}+6x_{2}=3x_{x}\n",
    "\\end{cases}$$\n",
    "\n",
    "$$\\begin{cases}\n",
    "x_{1}=-\\frac{3}{2}x_{2}\\\\\n",
    "x_{2}=x_{2}\n",
    "\\end{cases}$$\n",
    "\n",
    "\n",
    "\n",
    "\n",
    "$$x=\\begin{pmatrix}\n",
    "3\\\\\n",
    "-2\n",
    "\\end{pmatrix}\n",
    "$$"
   ],
   "metadata": {
    "collapsed": false,
    "pycharm": {
     "name": "#%% md\n"
    }
   }
  },
  {
   "cell_type": "code",
   "source": [
    "a = np.array([[-1,-6], [2,6]])\n",
    "w, v = la.eig(a)\n",
    "print(f'Собственные значения:\\n{w}')\n",
    "print(f'Собственные векторы:\\n{v}')"
   ],
   "metadata": {
    "collapsed": false,
    "pycharm": {
     "name": "#%%\n"
    }
   },
   "execution_count": 5,
   "outputs": [
    {
     "name": "stdout",
     "output_type": "stream",
     "text": [
      "Собственные значения:\n",
      "[2. 3.]\n",
      "Собственные векторы:\n",
      "[[-0.89442719  0.83205029]\n",
      " [ 0.4472136  -0.5547002 ]]\n"
     ]
    }
   ]
  },
  {
   "cell_type": "markdown",
   "source": [],
   "metadata": {
    "collapsed": false,
    "pycharm": {
     "name": "#%% md\n"
    }
   }
  },
  {
   "cell_type": "markdown",
   "source": [
    "__2.__ Дан оператор поворота на 180 градусов, задаваемый матрицей\n",
    "\n",
    "$$A=\\begin{pmatrix}\n",
    "-1 & 0\\\\\n",
    "0 & -1\n",
    "\\end{pmatrix}.$$\n",
    "\n",
    "Показать, что __любой__ вектор является для него собственным."
   ],
   "metadata": {
    "collapsed": false,
    "pycharm": {
     "name": "#%% md\n"
    }
   }
  },
  {
   "cell_type": "markdown",
   "source": [
    "$$\\begin{vmatrix}\n",
    "-1-\\lambda & 0\\\\\n",
    "0 & -1-\\lambda\n",
    "\\end{vmatrix} = 0,$$\n",
    "\n",
    "$$(-1-\\lambda)\\cdot(-1-\\lambda)- 0\\cdot0=0,$$\n",
    "\n",
    "$$(-1-\\lambda)^{2}=0   $$\n",
    "\n",
    "$$\\begin{cases}\n",
    "\\lambda_{1} = -1 \\\\\n",
    "\\lambda_{2} = -1\n",
    "\\end{cases}$$\n",
    "\n",
    "$$\\begin{pmatrix}\n",
    "-1 & 0\\\\\n",
    "0 & -1\n",
    "\\end{pmatrix}\n",
    "\\begin{pmatrix}\n",
    "x_{1}\\\\\n",
    "x_{2}\n",
    "\\end{pmatrix} =\n",
    "\\lambda\n",
    "\\begin{pmatrix}\n",
    "x_{1}\\\\\n",
    "x_{2}\n",
    "\\end{pmatrix}$$\n",
    "\n",
    "$$\\begin{cases}\n",
    "-x_{1} + 0\\cdot x_{2} = -x_{1}\\\\\n",
    "0\\cdot x_{1} + (-x_{2} = -x_{2}\n",
    "\\end{cases}$$\n",
    "\n",
    "$$\\begin{cases}\n",
    "x_{1} - x_{1} = 0\\\\\n",
    "x_{x} - x_{2} = 0\n",
    "\\end{cases}$$"
   ],
   "metadata": {
    "collapsed": false,
    "pycharm": {
     "name": "#%% md\n"
    }
   }
  },
  {
   "cell_type": "markdown",
   "source": [
    "__3.__ Пусть линейный оператор задан матрицей\n",
    "\n",
    "$$A=\\begin{pmatrix}\n",
    "1 & 1\\\\\n",
    "-1 & 3\n",
    "\\end{pmatrix}.$$\n",
    "\n",
    "Установить, является ли вектор $x=(1,1)$ собственным вектором этого линейного оператора."
   ],
   "metadata": {
    "collapsed": false,
    "pycharm": {
     "name": "#%% md\n"
    }
   }
  },
  {
   "cell_type": "markdown",
   "source": [
    "$$\\begin{pmatrix}\n",
    "1 & 1\\\\\n",
    "-1 & 3\n",
    "\\end{pmatrix}\n",
    "\\begin{pmatrix}\n",
    "1\\\\\n",
    "1\n",
    "\\end{pmatrix} = \\lambda\\begin{pmatrix}\n",
    "\n",
    "1\\\\\n",
    "1\n",
    "\\end{pmatrix}\n",
    "$$\n",
    "\n",
    "$$\\begin{cases}\n",
    "1+1 = \\lambda\\\\\n",
    "-1+3 = \\lambda\n",
    "\\end{cases}\n",
    "\\Rightarrow\n",
    "\\lambda = 2\n",
    "$$\n",
    "Вектор $x=(1,1)$ является собственным вектором линейного оператора $A$ с собственным значением $\\lambda=2$"
   ],
   "metadata": {
    "collapsed": false
   }
  },
  {
   "cell_type": "markdown",
   "source": [
    "**4.** Пусть линейный оператор задан матрицей\n",
    "\n",
    "$$A=\\begin{pmatrix}\n",
    "0 & 3 & 0\\\\\n",
    "3 & 0 & 0\\\\\n",
    "0 & 0 & 3\n",
    "\\end{pmatrix}.$$\n",
    "\n",
    "Установить, является ли вектор $x=(3, -3, -4)$ собственным вектором этого линейного оператора."
   ],
   "metadata": {
    "collapsed": false,
    "pycharm": {
     "name": "#%% md\n"
    }
   }
  },
  {
   "cell_type": "markdown",
   "source": [
    "$$\\begin{pmatrix}\n",
    "0 & 3 & 0\\\\\n",
    "3 & 0 & 0\\\\\n",
    "0 & 0 & 3\n",
    "\\end{pmatrix}\n",
    "\\begin{pmatrix}\n",
    "3\\\\\n",
    "-3\\\\\n",
    "-4\n",
    "\\end{pmatrix} = \\lambda\\begin{pmatrix}\n",
    "\n",
    "3\\\\\n",
    "-3\\\\\n",
    "-4\n",
    "\\end{pmatrix}\n",
    "$$\n",
    "\n",
    "$$\\begin{cases}\n",
    "0 - 9 + 0 = 3\\lambda\\\\\n",
    "9 + 0 + 0 = -3\\lambda\\\\\n",
    "0 + 0 - 12 = -4\\lambda\n",
    "\\end{cases}\n",
    "\\Rightarrow\n",
    "\n",
    "\\begin{cases}\n",
    "\\lambda = -3\\\\\n",
    "\\lambda = -3\\\\\n",
    "\\lambda = 3\n",
    "\\end{cases}\n",
    "$$\n",
    "\n",
    "Данная система не имеет смысла и таким образом вектор $x=(3,-3,-4)$ не является собственным для линейного оператора $A$"
   ],
   "metadata": {
    "collapsed": false,
    "pycharm": {
     "name": "#%% md\n"
    }
   }
  }
 ],
 "metadata": {
  "kernelspec": {
   "display_name": "Python 3",
   "language": "python",
   "name": "python3"
  },
  "language_info": {
   "codemirror_mode": {
    "name": "ipython",
    "version": 2
   },
   "file_extension": ".py",
   "mimetype": "text/x-python",
   "name": "python",
   "nbconvert_exporter": "python",
   "pygments_lexer": "ipython2",
   "version": "2.7.6"
  }
 },
 "nbformat": 4,
 "nbformat_minor": 0
}
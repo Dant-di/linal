{
 "cells": [
  {
   "cell_type": "code",
   "execution_count": 11,
   "outputs": [],
   "source": [
    "import numpy as np\n",
    "from numpy import linalg as la\n",
    "\n",
    "a = np.array([[0,0,2,1], [0,0,2,2], [0,0,4,3], [2,3,5,6]])"
   ],
   "metadata": {
    "collapsed": false,
    "pycharm": {
     "name": "#%%\n"
    }
   }
  },
  {
   "cell_type": "markdown",
   "source": [
    "##### Часть 1"
   ],
   "metadata": {
    "collapsed": false,
    "pycharm": {
     "name": "#%% md\n"
    }
   }
  },
  {
   "cell_type": "markdown",
   "source": [
    "__1.__ Установить, какие произведения матриц $AB$ и $BA$ определены, и найти размерности полученных матриц:\n",
    "\n",
    "   а) $A$ — матрица $4\\times 2$, $B$ — матрица $4\\times 2$;\n",
    "\n",
    "   б) $A$ — матрица $2\\times 5$, $B$ — матрица $5\\times 3$;\n",
    "\n",
    "   в) $A$ — матрица $8\\times 3$, $B$ — матрица $3\\times 8$;\n",
    "\n",
    "   г) $A$ — квадратная матрица $4\\times 4$, $B$ — квадратная матрица $4\\times 4$.\n"
   ],
   "metadata": {
    "collapsed": false
   }
  },
  {
   "cell_type": "markdown",
   "source": [
    "a) $A\\cdot B$ и $B\\cdot A$ - произведение не определено\n",
    "б) $A\\cdot B = C(5\\times 5)$, $B\\cdot A$ - произведение не определено\n",
    "в) $A\\cdot B = C(3\\times 3)$, $B\\cdot A = D(8\\times 8)$\n",
    "г) $A\\cdot B = C(4\\times 4)$, $B\\cdot A = D(4\\times 4)$"
   ],
   "metadata": {
    "collapsed": false,
    "pycharm": {
     "name": "#%% md\n"
    }
   }
  },
  {
   "cell_type": "markdown",
   "source": [
    "__2.__ Найти сумму и произведение матриц $A=\\begin{pmatrix}\n",
    "1 & -2\\\\\n",
    "3 & 0\n",
    "\\end{pmatrix}$ и $B=\\begin{pmatrix}\n",
    "4 & -1\\\\\n",
    "0 & 5\n",
    "\\end{pmatrix}.$"
   ],
   "metadata": {
    "collapsed": false
   }
  },
  {
   "cell_type": "markdown",
   "source": [
    "$$A+B = \\begin{pmatrix}\n",
    "5 & -3\\\\\n",
    "3 & 5\n",
    "\\end{pmatrix}$$\n",
    "\n",
    "$$A\\cdot B = \\begin{pmatrix}\n",
    "1\\cdot4 + (-2)\\cdot0 & 1\\cdot(-1) + (-2)\\cdot5\\\\\n",
    "3\\cdot4 + 0\\cdot0 & 3\\cdot(-1) + 0\\cdot5\n",
    "\\end{pmatrix} = \\begin{pmatrix}\n",
    "4 & -11\\\\\n",
    "12 & -3\n",
    "\\end{pmatrix}$$\n",
    "\n",
    "$$B\\cdot A = \\begin{pmatrix}\n",
    "4\\cdot1 + (-1)\\cdot3 & 4\\cdot(-2) + (-1)\\cdot0\\\\\n",
    "0\\cdot1 + 5\\cdot3 & 0\\cdot(-2) + 5\\cdot0\n",
    "\\end{pmatrix} = \\begin{pmatrix}\n",
    "1 & -8\\\\\n",
    "15 & 0\n",
    "\\end{pmatrix}$$\n"
   ],
   "metadata": {
    "collapsed": false,
    "pycharm": {
     "name": "#%% md\n"
    }
   }
  },
  {
   "cell_type": "code",
   "source": [
    "a = np.array([[1, -2], [3, 0]])\n",
    "b = np.array([[4, -1], [0, 5]])\n",
    "print(f'A + B = \\n{a + b}\\n')\n",
    "print(f'AxB = \\n{a @ b}\\n')\n",
    "print(f'BxA = \\n{b @ a}')"
   ],
   "metadata": {
    "collapsed": false,
    "pycharm": {
     "name": "#%%\n"
    }
   },
   "execution_count": 12,
   "outputs": [
    {
     "name": "stdout",
     "output_type": "stream",
     "text": [
      "A + B = \n",
      "[[ 5 -3]\n",
      " [ 3  5]]\n",
      "\n",
      "AxB = \n",
      "[[  4 -11]\n",
      " [ 12  -3]]\n",
      "\n",
      "BxA = \n",
      "[[ 1 -8]\n",
      " [15  0]]\n"
     ]
    }
   ]
  },
  {
   "cell_type": "markdown",
   "source": [
    "\n",
    "__3.__ Из закономерностей сложения и умножения матриц на число можно сделать вывод, что матрицы одного размера образуют линейное пространство. Вычислить линейную комбинацию $3A-2B+4C$ для матриц $A=\\begin{pmatrix}\n",
    "1 & 7\\\\\n",
    "3 & -6\n",
    "\\end{pmatrix}$, $B=\\begin{pmatrix}\n",
    "0 & 5\\\\\n",
    "2 & -1\n",
    "\\end{pmatrix}$, $C=\\begin{pmatrix}\n",
    "2 & -4\\\\\n",
    "1 & 1\n",
    "\\end{pmatrix}.$"
   ],
   "metadata": {
    "collapsed": false
   }
  },
  {
   "cell_type": "markdown",
   "source": [
    "$D = 3\\times\\begin{pmatrix}\n",
    "1 & 7\\\\\n",
    "3 & -6\n",
    "\\end{pmatrix} - 2\\times\\begin{pmatrix}\n",
    "0 & 5\\\\\n",
    "2 & -1\n",
    "\\end{pmatrix} + 4\\times\\begin{pmatrix}\n",
    "2 & -4\\\\\n",
    "1 & 1\n",
    "\\end{pmatrix}.$\n",
    "\n",
    "\n",
    "\n",
    "\n",
    "$D =\\begin{pmatrix}\n",
    "3 & 21\\\\\n",
    "9 & -18\n",
    "\\end{pmatrix} + \\begin{pmatrix}\n",
    "0 & -10\\\\\n",
    "-4 & 2\n",
    "\\end{pmatrix} + \\begin{pmatrix}\n",
    "8 & -16\\\\\n",
    "4 & 4\n",
    "\\end{pmatrix} = \\begin{pmatrix}\n",
    "11 & -5\\\\\n",
    "-9 & -12\n",
    "\\end{pmatrix}$\n",
    "\n"
   ],
   "metadata": {
    "collapsed": false,
    "pycharm": {
     "name": "#%% md\n"
    }
   }
  },
  {
   "cell_type": "code",
   "source": [
    "a = np.array([[1, 7], [3, -6]])\n",
    "b = np.array([[0, 5], [2, -1]])\n",
    "c = np.array([[2, -4], [1, 1]])\n",
    "print(f'3A-2B+4C = \\n{(3*a) + (-2*b) + (4*c)}')\n"
   ],
   "metadata": {
    "collapsed": false,
    "pycharm": {
     "name": "#%%\n"
    }
   },
   "execution_count": 13,
   "outputs": [
    {
     "name": "stdout",
     "output_type": "stream",
     "text": [
      "3A-2B+4C = \n",
      "[[ 11  -5]\n",
      " [  9 -12]]\n"
     ]
    }
   ]
  },
  {
   "cell_type": "markdown",
   "source": [
    "__4.__ Дана матрица $A=\\begin{pmatrix}\n",
    "4 & 1\\\\\n",
    "5 & -2\\\\\n",
    "2 & 3\n",
    "\\end{pmatrix}$.\n",
    "Вычислить $AA^{T}$ и $A^{T}A$."
   ],
   "metadata": {
    "collapsed": false
   }
  },
  {
   "cell_type": "markdown",
   "source": [
    "$$A^{T}=\\begin{pmatrix}\n",
    "4 & 5 & 2\\\\\n",
    "1 & -2 & 3\n",
    "\\end{pmatrix}$$\n",
    "\n",
    "$$A\\cdot A^{T} =\\begin{pmatrix}\n",
    "4\\cdot4 + 1\\cdot1 & 4\\cdot5 + 1\\cdot(-2) & 4\\cdot2 + 1\\cdot3\\\\\n",
    "5\\cdot4 + (-2)\\cdot1 & 5\\cdot5 + (-2)\\cdot(-2) & 5\\cdot2 + (-2)\\cdot3\\\\\n",
    "2\\cdot4 + 3\\cdot1 & 2\\cdot5 + 3\\cdot(-2) & 2\\cdot2 + 3\\cdot3\n",
    "\\end{pmatrix}=\\begin{pmatrix}\n",
    "17 & 18 & 11\\\\\n",
    "18 & 29 & 4\\\\\n",
    "11 & 4 & 13\n",
    "\\end{pmatrix}$$\n",
    "\n",
    "$$A^{T}\\cdot A =\\begin{pmatrix}\n",
    "4\\cdot4 + 5\\cdot5 + 2\\cdot2 & 4\\cdot1 + 5\\cdot(-2) + 2\\cdot3\\\\\n",
    "1\\cdot4 + (-2)\\cdot5 + 3\\cdot2 & 1\\cdot1 +(-2)\\cdot(-2) + 3\\cdot3\n",
    "\\end{pmatrix}=\\begin{pmatrix}\n",
    "45 & 0\\\\\n",
    "0 & 14\n",
    "\\end{pmatrix}$$"
   ],
   "metadata": {
    "collapsed": false,
    "pycharm": {
     "name": "#%% md\n"
    }
   }
  },
  {
   "cell_type": "code",
   "execution_count": 14,
   "outputs": [
    {
     "name": "stdout",
     "output_type": "stream",
     "text": [
      "A x AT = \n",
      "[[17 18 11]\n",
      " [18 29  4]\n",
      " [11  4 13]]\n",
      "\n",
      "AT x A = \n",
      "[[45  0]\n",
      " [ 0 14]]\n"
     ]
    }
   ],
   "source": [
    "a = np.array([[4, 1], [5, -2], [2, 3]])\n",
    "print(f'A x AT = \\n{a @ a.T}\\n')\n",
    "print(f'AT x A = \\n{a.T @ a}')"
   ],
   "metadata": {
    "collapsed": false,
    "pycharm": {
     "name": "#%%\n"
    }
   }
  },
  {
   "cell_type": "markdown",
   "source": [
    "##### Часть 2"
   ],
   "metadata": {
    "collapsed": false,
    "pycharm": {
     "name": "#%% md\n"
    }
   }
  },
  {
   "cell_type": "markdown",
   "source": [
    "__1.__ Вычислить определитель:\n",
    "\n",
    "   a)\n",
    "$$\\begin{vmatrix}\n",
    "sinx & -cosx\\\\\n",
    "cosx & sinx\n",
    "\\end{vmatrix};$$\n",
    "\n",
    "   б)\n",
    "$$\\begin{vmatrix}\n",
    "4 & 2 & 3\\\\\n",
    "0 & 5 & 1\\\\\n",
    "0 & 0 & 9\n",
    "\\end{vmatrix};$$\n",
    "\n",
    "   в)\n",
    "$$\\begin{vmatrix}\n",
    "1 & 2 & 3\\\\\n",
    "4 & 5 & 6\\\\\n",
    "7 & 8 & 9\n",
    "\\end{vmatrix}.$$"
   ],
   "metadata": {
    "collapsed": false,
    "pycharm": {
     "name": "#%% md\n"
    }
   }
  },
  {
   "cell_type": "markdown",
   "source": [
    "a)\n",
    "$$\\begin{vmatrix}\n",
    "sinx & -cosx\\\\\n",
    "cosx & sinx\n",
    "\\end{vmatrix} = sinx\\cdot sinx - (-cosx)\\cdot cosx = 1$$"
   ],
   "metadata": {
    "collapsed": false,
    "pycharm": {
     "name": "#%% md\n"
    }
   }
  },
  {
   "cell_type": "markdown",
   "source": [
    "б)\n",
    "$$\\begin{vmatrix}\n",
    "4 & 2 & 3\\\\\n",
    "0 & 5 & 1\\\\\n",
    "0 & 0 & 9\n",
    "\\end{vmatrix} = 4\\cdot\\begin{vmatrix}\n",
    "5 & 1\\\\\n",
    "0 & 9\n",
    "\\end{vmatrix} - 2\\cdot\\begin{vmatrix}\n",
    "0 & 1\\\\\n",
    "0 & 9\n",
    "\\end{vmatrix} + 3\\cdot\\begin{vmatrix}\n",
    "0 & 5\\\\\n",
    "0 & 0\n",
    "\\end{vmatrix} = 4\\cdot(5\\cdot9 - 0\\cdot1) - 2\\cdot(0\\cdot9 - 0\\cdot1) + 3\\cdot(0\\cdot0 - 0\\cdot5) = 180\n",
    "$$"
   ],
   "metadata": {
    "collapsed": false,
    "pycharm": {
     "name": "#%% md\n"
    }
   }
  },
  {
   "cell_type": "code",
   "execution_count": 24,
   "outputs": [
    {
     "name": "stdout",
     "output_type": "stream",
     "text": [
      "|A| = 180\n"
     ]
    }
   ],
   "source": [
    "a = np.array([[4, 2, 3], [0, 5, 1], [0, 0, 9]])\n",
    "print(f'|A| = {la.det(a):.0f}')\n"
   ],
   "metadata": {
    "collapsed": false,
    "pycharm": {
     "name": "#%%\n"
    }
   }
  },
  {
   "cell_type": "markdown",
   "source": [
    "в)\n",
    "$$\\begin{vmatrix}\n",
    "1 & 2 & 3\\\\\n",
    "4 & 5 & 6\\\\\n",
    "7 & 8 & 9\n",
    "\\end{vmatrix} = 1\\cdot\\begin{vmatrix}\n",
    "5 & 6\\\\\n",
    "8 & 9\n",
    "\\end{vmatrix} - 2\\cdot\\begin{vmatrix}\n",
    "4 & 6\\\\\n",
    "7 & 9\n",
    "\\end{vmatrix} + 3\\cdot\\begin{vmatrix}\n",
    "4 & 5\\\\\n",
    "7 & 8\n",
    "\\end{vmatrix} = 4\\cdot(5\\cdot9 - 8\\cdot6) - 2\\cdot(4\\cdot9 - 7\\cdot6) + 3\\cdot(4\\cdot8 - 7\\cdot5) = 0\n",
    "$$"
   ],
   "metadata": {
    "collapsed": false,
    "pycharm": {
     "name": "#%% md\n"
    }
   }
  },
  {
   "cell_type": "code",
   "execution_count": 29,
   "outputs": [
    {
     "name": "stdout",
     "output_type": "stream",
     "text": [
      "|A| = -0\n"
     ]
    }
   ],
   "source": [
    "a = np.array([[1, 2, 3], [4, 5, 6], [7, 8, 9]])\n",
    "print(f'|A| = {la.det(a):.0f}')"
   ],
   "metadata": {
    "collapsed": false,
    "pycharm": {
     "name": "#%%\n"
    }
   }
  },
  {
   "cell_type": "markdown",
   "source": [
    "__2.__ Определитель матрицы $A$ равен $4$. Найти:\n",
    "\n",
    "   а) $det(A^{2})$;\n",
    "\n",
    "   б) $det(A^{T})$;\n",
    "\n",
    "   в) $det(2A)$.\n"
   ],
   "metadata": {
    "collapsed": false
   }
  },
  {
   "cell_type": "markdown",
   "source": [
    "а) $det(A^{2}) = det(A\\cdot A) = det(A) \\cdot det(A) = 4 \\cdot 4 = 16$\n",
    "\n",
    "б) $det(A^{T})= det(A) = 4$, Исходя из свойтва определителя;\n",
    "\n",
    "в) $det(2A) = 2^n \\cdot det(A) = 2^n \\cdot 4$, исходя из свойства умножения строки или столбца на константу. При умножении всей матрицы принимается во внимание её размерность (степень n)."
   ],
   "metadata": {
    "collapsed": false,
    "pycharm": {
     "name": "#%% md\n"
    }
   }
  },
  {
   "cell_type": "markdown",
   "source": [
    "__3.__  Доказать, что матрица\n",
    "\n",
    "$\\begin{pmatrix}\n",
    "-2 & 7 & -3\\\\\n",
    "4 & -14 & 6\\\\\n",
    "-3 & 7 & 13\n",
    "\\end{pmatrix}$\n",
    "\n",
    "вырожденная.\n"
   ],
   "metadata": {
    "collapsed": false,
    "pycharm": {
     "name": "#%% md\n"
    }
   }
  },
  {
   "cell_type": "markdown",
   "source": [
    "Матрица вырожденная при определителе = 0\n",
    "\n",
    "$$\\begin{vmatrix}\n",
    "-2 & 7 & -3\\\\\n",
    "4 & -14 & 6\\\\\n",
    "-3 & 7 & 13\n",
    "\\end{vmatrix} = -2\\cdot\\begin{vmatrix}\n",
    "-14 & 6\\\\\n",
    "7 & 13\n",
    "\\end{vmatrix} - 7\\cdot\\begin{vmatrix}\n",
    "4 & 6\\\\\n",
    "-3 & 13\n",
    "\\end{vmatrix} - 3\\cdot\\begin{vmatrix}\n",
    "4 & -14\\\\\n",
    "-3 & 7\n",
    "\\end{vmatrix} = -2\\cdot((-14)\\cdot13 - 7\\cdot6) - 7\\cdot(4\\cdot13 - (-3)\\cdot6) - 3\\cdot(4\\cdot7 - (-3)\\cdot(-14)) = 0\n",
    "$$ Матрица вырожденная"
   ],
   "metadata": {
    "collapsed": false,
    "pycharm": {
     "name": "#%% md\n"
    }
   }
  },
  {
   "cell_type": "code",
   "execution_count": 30,
   "outputs": [
    {
     "name": "stdout",
     "output_type": "stream",
     "text": [
      "|A| = 0\n"
     ]
    }
   ],
   "source": [
    "a = np.array([[-2, 7, -3], [4, -14, 6], [-3, 7, 13]])\n",
    "print(f'|A| = {la.det(a):.0f}')"
   ],
   "metadata": {
    "collapsed": false,
    "pycharm": {
     "name": "#%%\n"
    }
   }
  },
  {
   "cell_type": "markdown",
   "source": [
    "__4.__ Найти ранг матрицы:\n",
    "\n",
    "   а) $\\begin{pmatrix}\n",
    "1 & 2 & 3\\\\\n",
    "1 & 1 & 1\\\\\n",
    "2 & 3 & 4\n",
    "\\end{pmatrix};$\n",
    "\n",
    "   б) $\\begin{pmatrix}\n",
    "0 & 0 & 2 & 1\\\\\n",
    "0 & 0 & 2 & 2\\\\\n",
    "0 & 0 & 4 & 3\\\\\n",
    "2 & 3 & 5 & 6\n",
    "\\end{pmatrix}.$"
   ],
   "metadata": {
    "collapsed": false,
    "pycharm": {
     "name": "#%% md\n"
    }
   }
  },
  {
   "cell_type": "markdown",
   "source": [
    "a)\n",
    "$\\begin{pmatrix}\n",
    "1 & 2 & 3\\\\\n",
    "1 & 1 & 1\\\\\n",
    "2 & 3 & 4\n",
    "\\end{pmatrix} = \\begin{pmatrix}\n",
    "1 & 2 & 3\\\\\n",
    "1 & 1 & 1\n",
    "\\end{pmatrix} = \\begin{pmatrix}\n",
    "1 & 2 & 3\\\\\n",
    "0 & -1 & -2\n",
    "\\end{pmatrix}\n",
    "$\n",
    "Ранг матрицы = 2\n"
   ],
   "metadata": {
    "collapsed": false,
    "pycharm": {
     "name": "#%% md\n"
    }
   }
  },
  {
   "cell_type": "code",
   "execution_count": 31,
   "outputs": [
    {
     "name": "stdout",
     "output_type": "stream",
     "text": [
      "Ранг матрицы = 2\n"
     ]
    }
   ],
   "source": [
    "a = np.array([[1, 2, 3], [1, 1, 1], [2, 3, 4]])\n",
    "print(f'Ранг матрицы = {la.matrix_rank(a)}')"
   ],
   "metadata": {
    "collapsed": false,
    "pycharm": {
     "name": "#%%\n"
    }
   }
  },
  {
   "cell_type": "markdown",
   "source": [
    "б)\n",
    "$\\begin{pmatrix}\n",
    "0 & 0 & 2 & 1\\\\\n",
    "0 & 0 & 2 & 2\\\\\n",
    "0 & 0 & 4 & 3\\\\\n",
    "2 & 3 & 5 & 6\n",
    "\\end{pmatrix} = \\begin{pmatrix}\n",
    "0 & 0 & 2 & 1\\\\\n",
    "0 & 0 & 2 & 2\\\\\n",
    "2 & 3 & 5 & 6\n",
    "\\end{pmatrix} = \\begin{pmatrix}\n",
    "2 & 3 & 5 & 6\\\\\n",
    "0 & 0 & 2 & 1\\\\\n",
    "0 & 0 & 2 & 2\n",
    "\\end{pmatrix} = \\begin{pmatrix}\n",
    "2 & 3 & 5 & 6\\\\\n",
    "0 & 0 & 2 & 1\\\\\n",
    "0 & 0 & 0 & 1\n",
    "\\end{pmatrix}\n",
    "$\n",
    "Ранг матрицы = 3"
   ],
   "metadata": {
    "collapsed": false,
    "pycharm": {
     "name": "#%% md\n"
    }
   }
  },
  {
   "cell_type": "code",
   "execution_count": 32,
   "outputs": [
    {
     "name": "stdout",
     "output_type": "stream",
     "text": [
      "Ранг матрицы = 3\n"
     ]
    }
   ],
   "source": [
    "a = np.array([[0, 0, 2, 1], [0, 0, 2, 2], [0, 0, 4, 3], [2, 3, 5, 6]])\n",
    "print(f'Ранг матрицы = {la.matrix_rank(a)}')"
   ],
   "metadata": {
    "collapsed": false,
    "pycharm": {
     "name": "#%%\n"
    }
   }
  }
 ],
 "metadata": {
  "kernelspec": {
   "display_name": "Python 3",
   "language": "python",
   "name": "python3"
  },
  "language_info": {
   "codemirror_mode": {
    "name": "ipython",
    "version": 2
   },
   "file_extension": ".py",
   "mimetype": "text/x-python",
   "name": "python",
   "nbconvert_exporter": "python",
   "pygments_lexer": "ipython2",
   "version": "2.7.6"
  }
 },
 "nbformat": 4,
 "nbformat_minor": 0
}